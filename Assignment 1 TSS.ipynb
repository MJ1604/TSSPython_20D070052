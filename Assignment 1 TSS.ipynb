{
 "cells": [
  {
   "cell_type": "code",
   "execution_count": 100,
   "metadata": {},
   "outputs": [],
   "source": [
    "File = open(\"HarryPotterAndTheSorcerersStone.txt\",encoding='UTF-8') "
   ]
  },
  {
   "cell_type": "code",
   "execution_count": 101,
   "metadata": {},
   "outputs": [],
   "source": [
    "DictionaryOfWords = {}         #Dictionary mapping every word to a list (of indices of the words' occurences)\n",
    "Novel = []                     #List of all words in the order, in which they appear!\n",
    "\n",
    "\n",
    "\n",
    "i = 0                   #Counter Variable to keep track of index of words\n",
    "\n",
    "for line in File.readlines():     #Iterate over all lines present in the text\n",
    "    \n",
    "    #Look at Python's Conciseness!\n",
    "    \n",
    "    line = line.replace(\".\",\"\").replace(\",\",\"\").replace('?','').replace('!','').replace('[','').replace(']','')\\\n",
    "    .replace('(','').replace(')','').replace('%','').replace('/','')\n",
    "      \n",
    "    #COMPLETE THE CODE FROM HERE:\n",
    "    \n",
    "    #This would split the line into many different words, and iterate over these words\n",
    "    \n",
    "    for word in line.split(' '): \n",
    "                                                                             \n",
    "        if word in DictionaryOfWords.keys():     #If the word is already present in the dictionary\n",
    "                                                                             \n",
    "            DictionaryOfWords[word].extend([i])       #Add the index into the pre-existing list for this word\n",
    "                                                                             \n",
    "        else:\n",
    "            DictionaryOfWords[word]=[i]    #Create a new list of indices for this word, with a single element\n",
    "                                                                             \n",
    "        \n",
    "        Novel.append(word)        #Add the Word in the Novel's ordered list of words\n",
    "                                                                             \n",
    "        i+=1"
   ]
  },
  {
   "cell_type": "code",
   "execution_count": 102,
   "metadata": {},
   "outputs": [],
   "source": [
    "#COMPLETE THE CODE FROM HERE:\n",
    "\n",
    "def GetQuery():\n",
    "   \n",
    "    word = input('Enter your Word - ')        #Get Input from the user regarding what word s/he wants to query for\n",
    "\n",
    "    Number = input('Enter the number of results desired - ')     #Get Input from the user regarding how many results the user wants to see\n",
    "\n",
    "    return (word,Number)                 #Return as output a tuple of the word and the Number of results"
   ]
  },
  {
   "cell_type": "code",
   "execution_count": 103,
   "metadata": {},
   "outputs": [],
   "source": [
    "def PrintContext(index):\n",
    "    \n",
    "    global Novel                          #Declares the list Novel as a Global Variable\n",
    "    \n",
    "    #COMPLETE THE CODE FROM HERE:\n",
    "    \n",
    "    for i in range( 0,10) :           #Define the range so that the task above is fulfilled\n",
    "        \n",
    "        print(Novel[index+i-5], end = ' ')          #Print the word (using List Indexing) with a space after that\n",
    "        \n",
    "    print('\\n')"
   ]
  },
  {
   "cell_type": "code",
   "execution_count": 104,
   "metadata": {},
   "outputs": [],
   "source": [
    "def PrintResult(word, NumQuery):\n",
    "  \n",
    "    global DictionaryOfWords                #Allows us to use the Dictionary as a global variable\n",
    "    \n",
    "    #COMPLETE THE CODE FROM HERE:\n",
    "    i=0\n",
    "    L = DictionaryOfWords[word] \n",
    "    \n",
    "    for i in range(0,min(len(L),int(NumQuery))):\n",
    "        \n",
    "        PrintContext(L[i])             #Actually print the words surrounding the ith occurence of the given word\n"
   ]
  },
  {
   "cell_type": "code",
   "execution_count": 105,
   "metadata": {},
   "outputs": [
    {
     "name": "stdout",
     "output_type": "stream",
     "text": [
      "Press Y in order to Continue with the next query or N to end.\\     Please press Enter after entering your choice!Y\n",
      "Enter your Word - Harry\n",
      "Enter the number of results desired - 6\n",
      "\n",
      " “— yes their son Harry —”\n",
      " \n",
      " Mr Dursley \n",
      "\n",
      "who had a son called Harry Come to think of \n",
      "\n",
      "sure his nephew was called Harry He’d never even seen \n",
      "\n",
      "the name of heaven did Harry survive”\n",
      " \n",
      " “We can \n",
      "\n",
      "\n",
      " “I’ve come to bring Harry to his aunt and \n",
      "\n",
      "the street screaming for sweets Harry Potter come and live \n",
      "\n",
      "Press Y in order to Continue with the next query or N to end.\\     Please press Enter after entering your choice!N\n"
     ]
    }
   ],
   "source": [
    "while 1>0 :   \n",
    "    \n",
    "    Choice = input('Press Y in order to Continue with the next query or N to end.\\ \\\n",
    "    Please press Enter after entering your choice!')\n",
    "    \n",
    "    #COMPLETE THE CODE FROM HERE:\n",
    "    \n",
    "    if Choice== 'Y':                     # If the user wants to query \n",
    "        \n",
    "       PrintResult(*GetQuery())     #Use some of the past defined function to do so\n",
    "        \n",
    "    else :\n",
    "        \n",
    "       break                                 #Else end the loop"
   ]
  },
  {
   "cell_type": "code",
   "execution_count": null,
   "metadata": {},
   "outputs": [],
   "source": []
  },
  {
   "cell_type": "code",
   "execution_count": null,
   "metadata": {},
   "outputs": [],
   "source": []
  }
 ],
 "metadata": {
  "kernelspec": {
   "display_name": "Python 3",
   "language": "python",
   "name": "python3"
  },
  "language_info": {
   "codemirror_mode": {
    "name": "ipython",
    "version": 3
   },
   "file_extension": ".py",
   "mimetype": "text/x-python",
   "name": "python",
   "nbconvert_exporter": "python",
   "pygments_lexer": "ipython3",
   "version": "3.8.5"
  }
 },
 "nbformat": 4,
 "nbformat_minor": 4
}
